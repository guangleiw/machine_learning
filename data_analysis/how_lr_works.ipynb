{
 "cells": [
  {
   "cell_type": "code",
   "execution_count": 2,
   "metadata": {},
   "outputs": [
    {
     "name": "stdout",
     "output_type": "stream",
     "text": [
      "0.3\n"
     ]
    }
   ],
   "source": [
    "#!/usr/bin/env python3 \n",
    "# -*- coding: utf-8 -*-\n",
    "\"\"\"\n",
    "This program tells you how the linear regression(algebra) works.\n",
    "'Linear Regression is basically the brick to the machine learning Building !'\n",
    "\"\"\"\n",
    "from statistics import mean\n",
    "import numpy as np\n",
    "\n",
    "\n",
    "xs=np.array([1,2,3,4,5],dtype=np.float64)\n",
    "ys=np.array([5,4,6,5,6],dtype=np.float64)\n",
    "\n",
    "# 计算斜率\n",
    "def best_fit_slope(xs,ys):\n",
    "    m= (((mean(xs)*mean(ys))-mean(xs*ys))/(mean(xs)**2-mean(xs**2)))\n",
    "    return m\n",
    "\n",
    "m = best_fit_slope(xs,ys)\n",
    "print(m)"
   ]
  },
  {
   "cell_type": "code",
   "execution_count": 3,
   "metadata": {},
   "outputs": [
    {
     "name": "stdout",
     "output_type": "stream",
     "text": [
      "4.3\n"
     ]
    }
   ],
   "source": [
    "# 计算截距\n",
    "def  get_intercept(xs,ys,m):\n",
    "    b=mean(ys)-(m*mean(xs))\n",
    "    return b\n",
    "b=get_intercept(xs,ys,m)\n",
    "print(b)"
   ]
  },
  {
   "cell_type": "code",
   "execution_count": null,
   "metadata": {
    "collapsed": true
   },
   "outputs": [],
   "source": [
    "def best_fit_slope_and_intercept(xs,ys):\n",
    "    m = (((mean(xs)*mean(ys))-mean(xs*ys))/(mean(xs)**2-mean(xs**2)))\n",
    "    b = mean(ys)-(m*mean(xs))\n",
    "    return m,b"
   ]
  },
  {
   "cell_type": "code",
   "execution_count": 4,
   "metadata": {},
   "outputs": [
    {
     "data": {
      "image/png": "[encoded data removed]",
      "text/plain": [
       "<matplotlib.figure.Figure at 0x108d10e10>"
      ]
     },
     "metadata": {},
     "output_type": "display_data"
    }
   ],
   "source": [
    "# 得到直线\n",
    "regression_line = [(m*x)+b for x in xs]\n",
    "# Great! Let's reap the fruits of out labour finally!\n",
    "import matplotlib.pyplot  as plt\n",
    "from matplotlib import style\n",
    "style.use('ggplot')\n",
    "\n",
    "plt.scatter(xs,ys,color='#003F72')\n",
    "plt.plot(xs,regression_line)\n",
    "plt.show()"
   ]
  },
  {
   "cell_type": "code",
   "execution_count": null,
   "metadata": {
    "collapsed": true
   },
   "outputs": [],
   "source": []
  }
 ],
 "metadata": {
  "kernelspec": {
   "display_name": "Python 3",
   "language": "python",
   "name": "python3"
  },
  "language_info": {
   "codemirror_mode": {
    "name": "ipython",
    "version": 3
   },
   "file_extension": ".py",
   "mimetype": "text/x-python",
   "name": "python",
   "nbconvert_exporter": "python",
   "pygments_lexer": "ipython3",
   "version": "3.6.3"
  }
 },
 "nbformat": 4,
 "nbformat_minor": 2
}
