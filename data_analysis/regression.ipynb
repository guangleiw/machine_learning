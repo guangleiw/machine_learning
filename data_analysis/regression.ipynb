{
 "cells": [
  {
   "cell_type": "code",
   "execution_count": 23,
   "metadata": {},
   "outputs": [],
   "source": [
    "\"\"\"\n",
    "My first python programme on https://pythonprogramming.net/\n",
    "Data Analysis part.\n",
    "Date : 2017-12-04\n",
    "\"\"\"\n",
    "import quandl,math\n",
    "import numpy as np\n",
    "import pandas as pd\n",
    "\n",
    "from sklearn import preprocessing,cross_validation,svm\n",
    "from sklearn.linear_model import LinearRegression\n",
    "\n",
    "df = quandl.get(\"WIKI/GOOGL\")\n"
   ]
  },
  {
   "cell_type": "code",
   "execution_count": 25,
   "metadata": {},
   "outputs": [],
   "source": [
    "# print(df.head(10))\n",
    "# print(df.tail(10))\n",
    "# print(df.info())\n",
    "# 注意DataFrame的索引类型是DataTimeIndex ,  而这个索引在info中是显示不出来的\n",
    "# print(df.index) \n",
    "df = df[['Adj. Open',  'Adj. High',  'Adj. Low',  'Adj. Close', 'Adj. Volume']]"
   ]
  },
  {
   "cell_type": "code",
   "execution_count": 26,
   "metadata": {
    "collapsed": true
   },
   "outputs": [],
   "source": [
    "df['HL_PCT'] = (df['Adj. High'] - df['Adj. Low'])/df['Adj. Close']*100.0\n",
    "df['PCT_change'] = (df['Adj. Close'] - df['Adj. Open'])/df['Adj. Open'] * 100.0\n",
    "df = df[['Adj. Close','HL_PCT','PCT_change','Adj. Volume']]"
   ]
  },
  {
   "cell_type": "code",
   "execution_count": 27,
   "metadata": {},
   "outputs": [],
   "source": [
    "forecast_col='Adj. Close'\n",
    "df.fillna(value=-99999,inplace=True)\n",
    "forecast_out = int(math.ceil(0.01*len(df)))"
   ]
  },
  {
   "cell_type": "code",
   "execution_count": 38,
   "metadata": {},
   "outputs": [
    {
     "name": "stdout",
     "output_type": "stream",
     "text": [
      "34\n",
      "Date\n",
      "2017-10-03   NaN\n",
      "2017-10-04   NaN\n",
      "2017-10-05   NaN\n",
      "2017-10-06   NaN\n",
      "2017-10-09   NaN\n",
      "2017-10-10   NaN\n",
      "2017-10-11   NaN\n",
      "2017-10-12   NaN\n",
      "2017-10-13   NaN\n",
      "2017-10-16   NaN\n",
      "Name: label, dtype: float64\n"
     ]
    }
   ],
   "source": [
    "# print(df[forecast_col]) # 这里df[forecast_col]是带着索引的\n",
    "print(forecast_out) \n",
    "# print(df[forecast_col].head(50))\n",
    "df['label'] = df[forecast_col].shift(-forecast_out) # 移一个月？还是抽样？\n",
    "print(df['label'].tail(10))"
   ]
  },
  {
   "cell_type": "code",
   "execution_count": 39,
   "metadata": {},
   "outputs": [],
   "source": [
    "X=np.array(df.drop(['label'],1))\n",
    "X=preprocessing.scale(X) # 对数据进行标准化 (X-mean)/std\n",
    "X_lately=X[-forecast_out:]\n",
    "X=X[:-forecast_out]\n",
    "df.dropna(inplace=True)\n",
    "y=np.array(df['label'])\n",
    "X_train,X_test,y_train,y_test=cross_validation.train_test_split(X,y,test_size=0.2)"
   ]
  },
  {
   "cell_type": "code",
   "execution_count": 40,
   "metadata": {},
   "outputs": [
    {
     "name": "stdout",
     "output_type": "stream",
     "text": [
      "0.975466388961\n"
     ]
    }
   ],
   "source": [
    "clf = LinearRegression(n_jobs=-1)\n",
    "clf.fit(X_train,y_train)\n",
    "confidence=clf.score(X_test,y_test)\n",
    "print(confidence)"
   ]
  },
  {
   "cell_type": "code",
   "execution_count": 41,
   "metadata": {},
   "outputs": [
    {
     "name": "stdout",
     "output_type": "stream",
     "text": [
      "[  948.52834997   957.43154037   969.08904414   966.15982408   954.235486\n",
      "   955.52427523   963.47903134   955.06285033   956.79359434   960.44389867\n",
      "   964.8046835    953.87946797   948.76255007   943.17044881   950.59358318\n",
      "   961.06617517   960.86438541   957.33927698   946.9861317    951.37461494\n",
      "   971.7593221    978.82500019   987.72088607   980.2836045    986.24923744\n",
      "   980.93051911   998.40270308  1007.02791377  1006.4966552   1000.71781016\n",
      "  1018.4848982   1019.64322408  1022.28575731  1023.43383121] 0.975466388961 34\n"
     ]
    }
   ],
   "source": [
    "# 给出预测值\n",
    "forecast_set=clf.predict(X_lately)\n",
    "print(forecast_set,confidence,forecast_out) # 到此 我们已经预测出来未来34天的值"
   ]
  },
  {
   "cell_type": "code",
   "execution_count": 42,
   "metadata": {
    "collapsed": true
   },
   "outputs": [],
   "source": [
    "# 为了更加直观的理解，我们通过画图来看一下\n",
    "import datetime\n",
    "import matplotlib.pyplot as plt\n",
    "from matplotlib import style\n",
    "style.use('ggplot')\n",
    "df['Forecast']=np.nan # initiate value"
   ]
  },
  {
   "cell_type": "code",
   "execution_count": 45,
   "metadata": {},
   "outputs": [],
   "source": [
    "last_date = df.iloc[-1].name\n",
    "last_unix = last_date.timestamp()\n",
    "one_day = 24*3600\n",
    "next_unix=last_unix+one_day\n",
    "# 把预测值添加到源数据的 dataframe当中\n",
    "for i in forecast_set:\n",
    "    next_date = datetime.datetime.fromtimestamp(next_unix)\n",
    "    next_unix+=86400\n",
    "    df.loc[next_date] = [np.nan for _ in range(len(df.columns)-1)] + [i]"
   ]
  },
  {
   "cell_type": "code",
   "execution_count": 46,
   "metadata": {},
   "outputs": [
    {
     "data": {
      "image/png": "[encoded data removed]",
      "text/plain": [
       "<matplotlib.figure.Figure at 0xc713ba8>"
      ]
     },
     "metadata": {},
     "output_type": "display_data"
    }
   ],
   "source": [
    "# 开始画图\n",
    "df['Adj. Close'].plot()\n",
    "df['Forecast'].plot()\n",
    "plt.legend(loc=4)\n",
    "plt.xlabel('Date')\n",
    "plt.ylabel('Price')\n",
    "plt.show()"
   ]
  },
  {
   "cell_type": "code",
   "execution_count": null,
   "metadata": {
    "collapsed": true
   },
   "outputs": [],
   "source": []
  }
 ],
 "metadata": {
  "kernelspec": {
   "display_name": "Python 3",
   "language": "python",
   "name": "python3"
  },
  "language_info": {
   "codemirror_mode": {
    "name": "ipython",
    "version": 3
   },
   "file_extension": ".py",
   "mimetype": "text/x-python",
   "name": "python",
   "nbconvert_exporter": "python",
   "pygments_lexer": "ipython3",
   "version": "3.6.3"
  }
 },
 "nbformat": 4,
 "nbformat_minor": 2
}
