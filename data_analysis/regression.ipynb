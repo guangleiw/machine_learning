{
 "cells": [
  {
   "cell_type": "code",
   "execution_count": 3,
   "metadata": {
    "collapsed": true
   },
   "outputs": [],
   "source": [
    "\"\"\"\n",
    "My first python programme on https://pythonprogramming.net/\n",
    "Data Analysis part.\n",
    "Date : 2017-12-04\n",
    "\"\"\"\n",
    "import quandl,math\n",
    "import numpy as np\n",
    "import pandas as pd\n",
    "\n",
    "from sklearn import preprocessing,cross_validation,svm\n",
    "from sklearn.linear_model import LinearRegression\n",
    "\n",
    "df = quandl.get(\"WIKI/GOOGL\")\n"
   ]
  },
  {
   "cell_type": "code",
   "execution_count": 7,
   "metadata": {},
   "outputs": [
    {
     "name": "stdout",
     "output_type": "stream",
     "text": [
      "<class 'pandas.core.frame.DataFrame'>\n",
      "DatetimeIndex: 3346 entries, 2004-08-19 to 2017-12-01\n",
      "Data columns (total 12 columns):\n",
      "Open           3346 non-null float64\n",
      "High           3346 non-null float64\n",
      "Low            3346 non-null float64\n",
      "Close          3346 non-null float64\n",
      "Volume         3346 non-null float64\n",
      "Ex-Dividend    3346 non-null float64\n",
      "Split Ratio    3346 non-null float64\n",
      "Adj. Open      3346 non-null float64\n",
      "Adj. High      3346 non-null float64\n",
      "Adj. Low       3346 non-null float64\n",
      "Adj. Close     3346 non-null float64\n",
      "Adj. Volume    3346 non-null float64\n",
      "dtypes: float64(12)\n",
      "memory usage: 339.8 KB\n",
      "None\n"
     ]
    }
   ],
   "source": [
    "# print(df.head(10))\n",
    "# print(df.tail(10))\n",
    "print(df.info())"
   ]
  },
  {
   "cell_type": "code",
   "execution_count": null,
   "metadata": {
    "collapsed": true
   },
   "outputs": [],
   "source": []
  }
 ],
 "metadata": {
  "kernelspec": {
   "display_name": "Python 3",
   "language": "python",
   "name": "python3"
  },
  "language_info": {
   "codemirror_mode": {
    "name": "ipython",
    "version": 3
   },
   "file_extension": ".py",
   "mimetype": "text/x-python",
   "name": "python",
   "nbconvert_exporter": "python",
   "pygments_lexer": "ipython3",
   "version": "3.6.3"
  }
 },
 "nbformat": 4,
 "nbformat_minor": 2
}
