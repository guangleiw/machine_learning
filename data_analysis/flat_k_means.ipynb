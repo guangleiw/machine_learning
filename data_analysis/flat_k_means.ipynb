{
 "cells": [
  {
   "cell_type": "code",
   "execution_count": 1,
   "metadata": {
    "collapsed": true
   },
   "outputs": [],
   "source": [
    "#! /usr/bin/evn python3 \n",
    "'''\n",
    "Implementing flat k means\n",
    "'''\n",
    "import matplotlib.pyplot as plt\n",
    "from matplotlib import style\n",
    "\n",
    "import numpy as np\n",
    "import pandas as pd\n",
    "style.use('ggplot')\n"
   ]
  },
  {
   "cell_type": "code",
   "execution_count": 2,
   "metadata": {},
   "outputs": [
    {
     "data": {
      "image/png": "[encoded data removed]",
      "text/plain": [
       "<matplotlib.figure.Figure at 0x10a94a630>"
      ]
     },
     "metadata": {},
     "output_type": "display_data"
    }
   ],
   "source": [
    "X=np.array([[1, 2],\n",
    "              [1.5, 1.8],\n",
    "              [5, 8 ],\n",
    "              [8, 8],\n",
    "              [1, 0.6],\n",
    "              [9,11]])\n",
    "plt.scatter(X[:,0],X[:,1],s=150)\n",
    "plt.show()"
   ]
  },
  {
   "cell_type": "code",
   "execution_count": 8,
   "metadata": {
    "collapsed": true
   },
   "outputs": [],
   "source": [
    "colors =10*['g','r','c','b','k']\n",
    "class K_Means:\n",
    "    def __init__(self,k=2,tol=0.001,max_iter=300):\n",
    "        self.k=k # 种子点个数\n",
    "        self.tol=tol # 容忍度 即决定种子点是否结束移动\n",
    "        self.max_iter=max_iter\n",
    "    \n",
    "    def fit(self,data):\n",
    "        \n",
    "        self.centroids = {}\n",
    "        \n",
    "        for i in range(self.k):\n",
    "            # 初始化种子点\n",
    "            self.centroids[i] = data[i]\n",
    "            \n",
    "        for i in range(self.max_iter):\n",
    "            self.classifications = {}\n",
    "            \n",
    "            for i in range(self.k):\n",
    "                self.classifications[i] = []\n",
    "                \n",
    "            # 该循环执行完成之后 得到self.classifications\n",
    "            # key:归类 value是样本点的list\n",
    "            for featureset in data:\n",
    "                # 计算该样本点到 种子点的距离 得到长度为k的距离list：distances\n",
    "                # 将最近距离对应的索引以及该样本点存储在classifications中\n",
    "                distances = [np.linalg.norm(featureset-self.centroids[centroid]) for centroid in self.centroids]\n",
    "                classification = distances.index(min(distances))\n",
    "                self.classifications[classification].append(featureset)\n",
    "            \n",
    "            pre_centroids = dict(self.centroids) # 保留上次的种子点\n",
    "            \n",
    "            for classification in self.classifications:\n",
    "                # 更新种子点\n",
    "                # key不变 \n",
    "                # value 改为 该分类下所有种子点的平均值\n",
    "                self.centroids[classification] = np.average(self.classifications[classification],axis=0)\n",
    "            \n",
    "            # 循环不能一直进行下去\n",
    "            # 如何判定种子点是否继续移动\n",
    "            \n",
    "            optimized = True\n",
    "            for c in self.centroids:\n",
    "                original_centroid = pre_centroids[c]\n",
    "                current_centroid = self.centroids[c]\n",
    "                if np.sum((original_centroid-original_centroid)/original_centroid*100.0) > self.tol:\n",
    "                    print(np.sum((original_centroid-original_centroid)/original_centroid*100.0))\n",
    "                    optimized =True\n",
    "            \n",
    "            if optimized:\n",
    "                break\n",
    "                \n",
    "    def predict(self,data):\n",
    "        distances = [np.linalg.norm(featureset-self.centroids[centroid]) for centroid in self.centroids]\n",
    "        classification = distances.index(min(distances))\n",
    "        return classification"
   ]
  },
  {
   "cell_type": "code",
   "execution_count": 11,
   "metadata": {},
   "outputs": [
    {
     "data": {
      "image/png": "[encoded data removed]",
      "text/plain": [
       "<matplotlib.figure.Figure at 0x113b72cc0>"
      ]
     },
     "metadata": {},
     "output_type": "display_data"
    }
   ],
   "source": [
    "# now we can do the prediction\n",
    "clf = K_Means()\n",
    "clf.fit(X)\n",
    "\n",
    "for centroid in clf.centroids:\n",
    "    plt.scatter(clf.centroids[centroid][0], clf.centroids[centroid][1],\n",
    "                marker=\"o\", color=\"k\", s=150, linewidths=5)\n",
    "    \n",
    "for classification in clf.classifications:\n",
    "    color = colors[classification]\n",
    "    for featureset in clf.classifications[classification]:\n",
    "        plt.scatter(featureset[0], featureset[1], marker=\"x\", color=color, s=150, linewidths=5)\n",
    "\n",
    "plt.show()"
   ]
  },
  {
   "cell_type": "code",
   "execution_count": null,
   "metadata": {
    "collapsed": true
   },
   "outputs": [],
   "source": []
  }
 ],
 "metadata": {
  "kernelspec": {
   "display_name": "Python 3",
   "language": "python",
   "name": "python3"
  },
  "language_info": {
   "codemirror_mode": {
    "name": "ipython",
    "version": 3
   },
   "file_extension": ".py",
   "mimetype": "text/x-python",
   "name": "python",
   "nbconvert_exporter": "python",
   "pygments_lexer": "ipython3",
   "version": "3.6.3"
  }
 },
 "nbformat": 4,
 "nbformat_minor": 2
}
