{
 "cells": [
  {
   "cell_type": "code",
   "execution_count": 14,
   "metadata": {},
   "outputs": [
    {
     "name": "stdout",
     "output_type": "stream",
     "text": [
      "0.946216196863\n"
     ]
    },
    {
     "data": {
      "image/png": "[encoded data removed]",
      "text/plain": [
       "<matplotlib.figure.Figure at 0x10e98c710>"
      ]
     },
     "metadata": {},
     "output_type": "display_data"
    }
   ],
   "source": [
    "#!/usr/bin/env python3 \n",
    "# _*_ coding: utf-8 _*_\n",
    "\"\"\"\n",
    "Implementing the R squared (coeffecient determintation)\n",
    "\"\"\"\n",
    "\n",
    "from statistics import mean\n",
    "import random\n",
    "import numpy as np\n",
    "import matplotlib.pyplot as plt\n",
    "from matplotlib import style\n",
    "style.use('ggplot')\n",
    "\n",
    "# xs = np.array([1,2,3,4,5],dtype=np.float64)\n",
    "# ys = np.array([5,4,6,5,6],dtype=np.float64)\n",
    "\n",
    "\n",
    "# 创建数据集\n",
    "def create_dataset(hm,variance,step=2,correlation=False):\n",
    "    val=1\n",
    "    ys=[]\n",
    "    for i in range(hm):\n",
    "        y=val+ random.randrange(-variance,variance)\n",
    "        ys.append(y)\n",
    "        if correlation and correlation == 'pos':\n",
    "            val+=step\n",
    "        elif correlation and correlation == 'neg':\n",
    "            val-+step\n",
    "    xs = [i for i in range(len(ys))]\n",
    "    \n",
    "    return np.array(xs,dtype=np.float64),np.array(ys,dtype=np.float64)\n",
    "\n",
    "# 计算斜率和方差\n",
    "def best_fit_slope_and_intercept(xs,ys):\n",
    "    m = (((mean(xs)*mean(ys))-mean(xs*ys))/(mean(xs)**2-mean(xs**2)))\n",
    "    b = mean(ys)-(m*mean(xs))\n",
    "    return m,b\n",
    "\n",
    "# 计算预测值残差\n",
    "def squared_error(ys_orig,ys_line):\n",
    "    return sum((ys_orig-ys_line)*(ys_orig-ys_line))\n",
    "\n",
    "# 计算决定系数(coeffecient of determination)\n",
    "def coeffecient_of_determination(ys_orig,ys_line):\n",
    "    y_mean_line = [mean(ys_orig) for y in ys_orig]\n",
    "    squared_error_regr = squared_error(ys_orig,ys_line)\n",
    "    squared_error_y_mean = squared_error(ys_orig,y_mean_line)\n",
    "    return 1-(squared_error_regr)/(squared_error_y_mean)\n",
    "\n",
    "# xs,ys=create_dataset(40,10,2,correlation='pos')\n",
    "# xs,ys=create_dataset(40,10,2,correlation='neg')\n",
    "\n",
    "m,b=best_fit_slope_and_intercept(xs,ys)\n",
    "regression_line = [(m*x)+b for x in xs]\n",
    "\n",
    "r_squared = coeffecient_of_determination(ys,regression_line)\n",
    "\n",
    "print(r_squared)\n",
    "\n",
    "plt.scatter(xs,ys,color='#003F72',label='data')\n",
    "plt.plot(xs,regression_line,label='regression line')\n",
    "plt.legend(loc=4)\n",
    "plt.show()\n"
   ]
  },
  {
   "cell_type": "code",
   "execution_count": null,
   "metadata": {
    "collapsed": true
   },
   "outputs": [],
   "source": []
  }
 ],
 "metadata": {
  "kernelspec": {
   "display_name": "Python 3",
   "language": "python",
   "name": "python3"
  },
  "language_info": {
   "codemirror_mode": {
    "name": "ipython",
    "version": 3
   },
   "file_extension": ".py",
   "mimetype": "text/x-python",
   "name": "python",
   "nbconvert_exporter": "python",
   "pygments_lexer": "ipython3",
   "version": "3.6.1"
  }
 },
 "nbformat": 4,
 "nbformat_minor": 2
}
