{
 "cells": [
  {
   "cell_type": "code",
   "execution_count": 1,
   "metadata": {},
   "outputs": [
    {
     "data": {
      "text/plain": [
       "'\\n使用本地已经存储的\\n.pickle 文件来进行\\nprediction\\n'"
      ]
     },
     "execution_count": 1,
     "metadata": {},
     "output_type": "execute_result"
    }
   ],
   "source": [
    "#!/usr/bin/env python3\n",
    "# -*- coding: utf-8 -*-\n",
    "\"\"\"\n",
    "使用本地已经存储的\n",
    ".pickle 文件来进行\n",
    "prediction\n",
    "\"\"\""
   ]
  },
  {
   "cell_type": "code",
   "execution_count": 19,
   "metadata": {
    "collapsed": true
   },
   "outputs": [],
   "source": [
    "import quandl\n",
    "import math\n",
    "import pandas as pd\n",
    "import numpy as np\n",
    "from sklearn import preprocessing\n",
    "from sklearn import cross_validation\n",
    "from sklearn import svm\n",
    "import matplotlib.pyplot as plt\n",
    "from  matplotlib  import style\n",
    "import datetime\n",
    "import pickle\n",
    "\n",
    "style.use('ggplot')\n",
    "\n",
    "quandl.ApiConfig.api_key = \"7yjNze11W9aLz-sFmn8y\"\n",
    "df=quandl.get('WIKI/GOOGL')"
   ]
  },
  {
   "cell_type": "code",
   "execution_count": 20,
   "metadata": {
    "collapsed": true
   },
   "outputs": [],
   "source": [
    "df = df[['Adj. Open',  'Adj. High',  'Adj. Low',  'Adj. Close', 'Adj. Volume']]\n",
    "df['HL_PCT'] = (df['Adj. High'] - df['Adj. Low'])/df['Adj. Close']*100.0\n",
    "df['PCT_change'] = (df['Adj. Close'] - df['Adj. Open'])/df['Adj. Open'] * 100.0"
   ]
  },
  {
   "cell_type": "code",
   "execution_count": 21,
   "metadata": {},
   "outputs": [
    {
     "name": "stdout",
     "output_type": "stream",
     "text": [
      "34\n"
     ]
    }
   ],
   "source": [
    "df = df[['Adj. Close','HL_PCT','PCT_change','Adj. Volume']]\n",
    "forecast_col='Adj. Close'\n",
    "df.fillna(value=-99999,inplace=True)\n",
    "forecast_out = int(math.ceil(0.01*len(df)))\n",
    "# print(df[forecast_col]) # 这里df[forecast_col]是带着索引的\n",
    "print(forecast_out) \n",
    "# print(df[forecast_col].head(50))\n",
    "df['label'] = df[forecast_col].shift(-forecast_out) # 移一个月？还是抽样？\n",
    "# print(df['label'].tail(10))\n",
    "X=np.array(df.drop(['label'],1))\n",
    "X=preprocessing.scale(X) # 对数据进行标准化 (X-mean)/std\n",
    "X_lately=X[-forecast_out:]\n",
    "X=X[:-forecast_out]\n",
    "df.dropna(inplace=True)\n",
    "y=np.array(df['label'])"
   ]
  },
  {
   "cell_type": "code",
   "execution_count": 31,
   "metadata": {},
   "outputs": [
    {
     "name": "stdout",
     "output_type": "stream",
     "text": [
      "LinearRegression(copy_X=True, fit_intercept=True, n_jobs=-1, normalize=False)\n"
     ]
    }
   ],
   "source": [
    "X_train,X_test,y_train,y_test=cross_validation.train_test_split(X,y,test_size=0.3)\n",
    "#### 对比\n",
    "# clf = LinearRegression(n_jobs=-1)\n",
    "# clf.fit(X_train,y_train)\n",
    "# confidence=clf.score(X_test,y_test)\n",
    "# print(confidence)\n",
    "pickle_in=open('linearregression.pickle','rb')\n",
    "clf= pickle.load(pickle_in)\n",
    "print(clf)"
   ]
  },
  {
   "cell_type": "code",
   "execution_count": 30,
   "metadata": {
    "scrolled": true
   },
   "outputs": [
    {
     "name": "stdout",
     "output_type": "stream",
     "text": [
      "[ 1019.6612854   1023.44659581  1001.06074302  1006.15221702  1008.67753478\n",
      "  1008.19535776  1047.55142579  1050.32185462  1050.68781177  1060.43992569\n",
      "  1060.6064867   1068.24911274  1060.90540199  1070.88592166  1065.36077136\n",
      "  1063.21029208  1059.75050291  1059.84962023  1055.03200879  1066.77442758\n",
      "  1052.8861134   1053.55349097  1068.95915276  1070.78680111  1075.43695883\n",
      "  1089.90630326  1079.52496055  1052.33647824  1053.5960484   1041.66513964\n",
      "  1027.77209598  1034.78268297  1049.71157942  1062.73428946]\n"
     ]
    }
   ],
   "source": [
    "# 给出预测值\n",
    "forecast_set=clf.predict(X_lately)\n",
    "print(forecast_set)\n",
    "# print(forecast_set,confidence,forecast_out) # 到此 我们已经预测出来未来34天的值"
   ]
  },
  {
   "cell_type": "code",
   "execution_count": null,
   "metadata": {
    "collapsed": true
   },
   "outputs": [],
   "source": []
  }
 ],
 "metadata": {
  "kernelspec": {
   "display_name": "Python 3",
   "language": "python",
   "name": "python3"
  },
  "language_info": {
   "codemirror_mode": {
    "name": "ipython",
    "version": 3
   },
   "file_extension": ".py",
   "mimetype": "text/x-python",
   "name": "python",
   "nbconvert_exporter": "python",
   "pygments_lexer": "ipython3",
   "version": "3.6.1"
  }
 },
 "nbformat": 4,
 "nbformat_minor": 2
}
