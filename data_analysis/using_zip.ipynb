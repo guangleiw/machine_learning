{
 "cells": [
  {
   "cell_type": "code",
   "execution_count": 1,
   "metadata": {},
   "outputs": [
    {
     "name": "stdout",
     "output_type": "stream",
     "text": [
      "1 7\n",
      "2 8\n",
      "3 3\n",
      "4 2\n"
     ]
    }
   ],
   "source": [
    "#! /usr/bin/env python3\n",
    "#! _*_ coding: utf-8_*_\n",
    "\"\"\"\n",
    "The zip function iterates through multipule iterables\n",
    "and aggregates them.\n",
    "\"\"\"\n",
    "x=[1,2,3,4]\n",
    "y=[7,8,3,2]\n",
    "z=['a','b','c','d']\n",
    "\n",
    "for a,b in zip(x,y):\n",
    "    print(a,b)"
   ]
  },
  {
   "cell_type": "code",
   "execution_count": 2,
   "metadata": {},
   "outputs": [
    {
     "name": "stdout",
     "output_type": "stream",
     "text": [
      "1 7 a\n",
      "2 8 b\n",
      "3 3 c\n",
      "4 2 d\n"
     ]
    }
   ],
   "source": [
    "for a,b,c in zip(x,y,z):\n",
    "    print(a,b,c)"
   ]
  },
  {
   "cell_type": "code",
   "execution_count": 5,
   "metadata": {},
   "outputs": [
    {
     "name": "stdout",
     "output_type": "stream",
     "text": [
      "<zip object at 0x111640548>\n",
      "[(1, 7), (2, 8), (3, 3), (4, 2)]\n",
      "{1: 7, 2: 8, 3: 3, 4: 2}\n"
     ]
    }
   ],
   "source": [
    "# zip returns a zip object\n",
    "# but you can convert it to list/dict\n",
    "print(zip(x,y))\n",
    "print(list(zip(x,y)))\n",
    "print(dict(zip(x,y)))"
   ]
  },
  {
   "cell_type": "code",
   "execution_count": null,
   "metadata": {
    "collapsed": true
   },
   "outputs": [],
   "source": []
  }
 ],
 "metadata": {
  "kernelspec": {
   "display_name": "Python 3",
   "language": "python",
   "name": "python3"
  },
  "language_info": {
   "codemirror_mode": {
    "name": "ipython",
    "version": 3
   },
   "file_extension": ".py",
   "mimetype": "text/x-python",
   "name": "python",
   "nbconvert_exporter": "python",
   "pygments_lexer": "ipython3",
   "version": "3.6.3"
  }
 },
 "nbformat": 4,
 "nbformat_minor": 2
}
