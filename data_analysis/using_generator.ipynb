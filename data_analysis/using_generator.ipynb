{
 "cells": [
  {
   "cell_type": "code",
   "execution_count": null,
   "metadata": {
    "collapsed": true
   },
   "outputs": [],
   "source": [
    "#! usr/bin/env python3\n",
    "# _*_ coding: utf-8_*_\n",
    "import timeit\n",
    "\n",
    "# timeit is a tool to test run time\n",
    "# code below is telling us how long it took to run 500,000\n",
    "# iterations of 1+3.\n",
    "print(timeit.timeit('1+3',number=500000))"
   ]
  },
  {
   "cell_type": "code",
   "execution_count": 2,
   "metadata": {},
   "outputs": [
    {
     "name": "stdout",
     "output_type": "stream",
     "text": [
      "1.174561838000045\n"
     ]
    }
   ],
   "source": [
    "# We can also use the timeit module against multiple lines of code\n",
    "# pay attention: xyz is a generator\n",
    "print(timeit.timeit('''input_list = range(100)\n",
    "def div_by_two(num):\n",
    "    if(num/2).is_integer():\n",
    "        return True\n",
    "    else:\n",
    "        return False\n",
    "# generator\n",
    "xyz = list(i for i in input_list if div_by_two(i))\n",
    "''',number=50000))"
   ]
  },
  {
   "cell_type": "code",
   "execution_count": 3,
   "metadata": {},
   "outputs": [
    {
     "name": "stdout",
     "output_type": "stream",
     "text": [
      "1.0470310749997225\n"
     ]
    }
   ],
   "source": [
    "# compare with list \n",
    "print(timeit.timeit('''input_list=range(100)\n",
    "def div_by_two(num):\n",
    "    if(num/2).is_integer():\n",
    "        return True\n",
    "    else:\n",
    "        return False\n",
    "# list comprehension\n",
    "xyz = [i for i in input_list if div_by_two(i)]\n",
    "''',number=50000))"
   ]
  },
  {
   "cell_type": "code",
   "execution_count": null,
   "metadata": {
    "collapsed": true
   },
   "outputs": [],
   "source": []
  }
 ],
 "metadata": {
  "kernelspec": {
   "display_name": "Python 3",
   "language": "python",
   "name": "python3"
  },
  "language_info": {
   "codemirror_mode": {
    "name": "ipython",
    "version": 3
   },
   "file_extension": ".py",
   "mimetype": "text/x-python",
   "name": "python",
   "nbconvert_exporter": "python",
   "pygments_lexer": "ipython3",
   "version": "3.6.3"
  }
 },
 "nbformat": 4,
 "nbformat_minor": 2
}
