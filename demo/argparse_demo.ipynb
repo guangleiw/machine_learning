{
 "cells": [
  {
   "cell_type": "code",
   "execution_count": 2,
   "metadata": {},
   "outputs": [],
   "source": [
    "import argparse\n",
    "import sys\n",
    "\n",
    "def main():\n",
    "    parser = argparse.ArgumentParser()\n",
    "    parser.add_argument('--x',type=float,default = 1.0,help='What is the 1st number?')\n",
    "    parser.add_argument('--y',type=float,default = 1.0,help='What is the 2nd number?')\n",
    "    parser.add_argument('operation',type = str,default = 1.0,help='What operation? div/add/sub/mul')\n",
    "    args = parser.parse_args()\n",
    "    sys.stdout.write(str(calc(args)))"
   ]
  },
  {
   "cell_type": "code",
   "execution_count": null,
   "metadata": {
    "collapsed": true
   },
   "outputs": [],
   "source": [
    "def calc(args):\n",
    "    if args.operation == 'add':\n",
    "        return args.x + args.y\n",
    "    elif args.operation == 'sub':\n",
    "        return args.x - args.y\n",
    "    elif args.operation == 'mul':\n",
    "        return args.x * args.y\n",
    "    elif args.operation == 'div':\n",
    "        return args.x/args.y"
   ]
  },
  {
   "cell_type": "code",
   "execution_count": null,
   "metadata": {
    "collapsed": true
   },
   "outputs": [],
   "source": [
    "if __name__ == '__main__':\n",
    "    main()"
   ]
  }
 ],
 "metadata": {
  "kernelspec": {
   "display_name": "Python 3",
   "language": "python",
   "name": "python3"
  },
  "language_info": {
   "codemirror_mode": {
    "name": "ipython",
    "version": 3
   },
   "file_extension": ".py",
   "mimetype": "text/x-python",
   "name": "python",
   "nbconvert_exporter": "python",
   "pygments_lexer": "ipython3",
   "version": "3.6.3"
  }
 },
 "nbformat": 4,
 "nbformat_minor": 2
}
