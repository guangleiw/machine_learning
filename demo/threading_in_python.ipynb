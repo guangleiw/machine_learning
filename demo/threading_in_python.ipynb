{
 "cells": [
  {
   "cell_type": "code",
   "execution_count": 7,
   "metadata": {},
   "outputs": [
    {
     "name": "stdout",
     "output_type": "stream",
     "text": [
      "mytable\n",
      "my_dt\n",
      "mytb2\n",
      "mydt2\n"
     ]
    }
   ],
   "source": [
    "#! usr/bin/env python3\n",
    "from multiprocessing.dummy import Pool as ThreadPool\n",
    "import urllib\n",
    "\n",
    "def get_table(args):\n",
    "    (tb,dt)=args\n",
    "    print(tb)\n",
    "    print(dt)\n",
    "\n",
    "urls=[\n",
    "'http://www.python.org',\n",
    "'http://www.python.org/about/',\n",
    "'http://www.onlamp.com/pub/a/python/2003/04/17/metaclasses.html',\n",
    "'http://www.python.org/doc/',\n",
    "'http://www.python.org/download/',\n",
    "'http://www.python.org/getit/',\n",
    "'http://www.python.org/community/',\n",
    "'https://wiki.python.org/moin/'\n",
    "]\n",
    "\n",
    "pool = ThreadPool(4)\n",
    "\n",
    "# results = pool.map(urllib.request.urlopen,urls)\n",
    "results = pool.map(get_table,[(\"mytable\",\"my_dt\"),(\"mytb2\",\"mydt2\")])\n",
    "\n",
    "\n",
    "pool.close()\n",
    "pool.join()"
   ]
  },
  {
   "cell_type": "code",
   "execution_count": null,
   "metadata": {
    "collapsed": true
   },
   "outputs": [],
   "source": []
  }
 ],
 "metadata": {
  "kernelspec": {
   "display_name": "Python 3",
   "language": "python",
   "name": "python3"
  },
  "language_info": {
   "codemirror_mode": {
    "name": "ipython",
    "version": 3
   },
   "file_extension": ".py",
   "mimetype": "text/x-python",
   "name": "python",
   "nbconvert_exporter": "python",
   "pygments_lexer": "ipython3",
   "version": "3.6.3"
  }
 },
 "nbformat": 4,
 "nbformat_minor": 2
}
