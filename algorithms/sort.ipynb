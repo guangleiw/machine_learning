{
 "cells": [
  {
   "cell_type": "code",
   "execution_count": 6,
   "metadata": {},
   "outputs": [
    {
     "name": "stdout",
     "output_type": "stream",
     "text": [
      "Running time7.388294 seconds\n"
     ]
    }
   ],
   "source": [
    "\"\"\"几大常用的排序算法\n",
    "\"\"\"\n",
    "import time\n",
    "\n",
    "def print_time(start,end):\n",
    "    print('Running time%s seconds'%(end-start))\n",
    "    \n",
    "# 冒泡排序算法    \n",
    "def bubble_sort(data=None):\n",
    "    \"\"\"\n",
    "    两两比较：\n",
    "    第一轮把最大(小)值放在最后\n",
    "    第二轮把次最大(小)值放在倒数第二\n",
    "    以此类推\n",
    "    每一轮复杂度 n\n",
    "    算法复杂度 n的平方\n",
    "    \"\"\"\n",
    "    if (None == data) or (len(data) <=1):\n",
    "        return data\n",
    "    \n",
    "    for i in reversed(range(len(data))):\n",
    "        for j in range(i):\n",
    "            if data[j+1] <= data[j] :\n",
    "                tmp=data[j+1]\n",
    "                data[j+1]=data[j]\n",
    "                data[j]=tmp\n",
    "    \n",
    "    return data\n",
    "\n",
    "# def select_sort(data):\n",
    "\n",
    "# 选择排序算法    \n",
    "def select_sort(data=None):\n",
    "    \"\"\"\n",
    "    第一轮在前n-1个元素中选出最大的元素，将该元素与最后元素互换位置\n",
    "    第二轮在前n-2个元素中选出最大元素，将该元素与倒数第二元素互换位置\n",
    "    以此类催\n",
    "    每一轮复杂度n\n",
    "    算法复杂度 n的平方\n",
    "    \"\"\"\n",
    "    if(None == data) or (len(data) <=1):\n",
    "        return data\n",
    "    \n",
    "    for rou in reversed(range(0,len(data))):\n",
    "        max_v = data[0]\n",
    "        max_idx = 0\n",
    "        for i in range(0,rou):\n",
    "            if max_v < data[i+1]:\n",
    "                max_v = data[i+1]\n",
    "                max_idx = i+1\n",
    "        data[max_idx],data[rou] = data[rou],data[max_idx] # 注意 pythonic 的交换数据\n",
    "    \n",
    "    return data\n",
    "    \n",
    "\"\"\"\n",
    "排序算法性能测试部分\n",
    "\"\"\"\n",
    "data=list(reversed(range(10000))) #  注意 range 返回的是一个object 不是list\n",
    "\n",
    "start=time.clock()\n",
    "# rlt = bubble_sort(data)\n",
    "rlt = select_sort(data)\n",
    "end = time.clock()\n",
    "print_time(start,end)\n",
    "# print(rlt)\n",
    "    \n",
    "    "
   ]
  },
  {
   "cell_type": "code",
   "execution_count": null,
   "metadata": {
    "collapsed": true
   },
   "outputs": [],
   "source": []
  }
 ],
 "metadata": {
  "kernelspec": {
   "display_name": "Python 3",
   "language": "python",
   "name": "python3"
  },
  "language_info": {
   "codemirror_mode": {
    "name": "ipython",
    "version": 3
   },
   "file_extension": ".py",
   "mimetype": "text/x-python",
   "name": "python",
   "nbconvert_exporter": "python",
   "pygments_lexer": "ipython3",
   "version": "3.6.3"
  }
 },
 "nbformat": 4,
 "nbformat_minor": 2
}
